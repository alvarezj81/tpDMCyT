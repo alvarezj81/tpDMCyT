{
 "cells": [
  {
   "cell_type": "markdown",
   "metadata": {},
   "source": [
    "# Importación de Paquetes"
   ]
  },
  {
   "cell_type": "code",
   "execution_count": 1,
   "metadata": {},
   "outputs": [],
   "source": [
    "import numpy as np\n",
    "import pandas as pd\n",
    "\n",
    "\n",
    "import matplotlib.pylab as plt \n",
    "import matplotlib.gridspec as gridspec\n",
    "from scipy.signal import butter, lfilter\n",
    "\n",
    "\n",
    "from sklearn import decomposition\n",
    "\n",
    "import mne"
   ]
  },
  {
   "cell_type": "code",
   "execution_count": 2,
   "metadata": {},
   "outputs": [],
   "source": [
    "dirname = '/home/mauro/Escritorio/Facultad/Data Mining/Data Mining en Ciencia y Tecnología/Trabajo Práctico/tpDMCyT/data/procesados/'"
   ]
  },
  {
   "cell_type": "markdown",
   "metadata": {},
   "source": [
    "# Cargo datos de Sujetos"
   ]
  },
  {
   "cell_type": "markdown",
   "metadata": {},
   "source": [
    "## Sujeto 8"
   ]
  },
  {
   "cell_type": "markdown",
   "metadata": {},
   "source": [
    "### Cargo bl1"
   ]
  },
  {
   "cell_type": "code",
   "execution_count": 3,
   "metadata": {},
   "outputs": [
    {
     "name": "stdout",
     "output_type": "stream",
     "text": [
      "Sampling rate: 128.00 Hz\n",
      "Data shape: 7681 samples x 30 channels\n",
      "Tiempo total : 60.01 \n"
     ]
    }
   ],
   "source": [
    "sujeto_8_1 = pd.read_csv(dirname+'suj_8_bl_1.txt', sep=',', header=None)\n",
    "\n",
    "EEG_sujeto_8_1 = sujeto_8_1.to_numpy()\n",
    "srate=128\n",
    "ch    = EEG_sujeto_8_1.shape[0]\n",
    "samples = EEG_sujeto_8_1.shape[1] \n",
    "\n",
    "print(\"Sampling rate: {:.2f} Hz\".format(srate))\n",
    "print(\"Data shape: {:d} samples x {:d} channels\".format(EEG_sujeto_8_1.shape[1], EEG_sujeto_8_1.shape[0]))\n",
    "print(\"Tiempo total : {:.2f} \".format(samples/srate))"
   ]
  },
  {
   "cell_type": "markdown",
   "metadata": {},
   "source": [
    "### Cargo bl2"
   ]
  },
  {
   "cell_type": "code",
   "execution_count": 4,
   "metadata": {
    "scrolled": true
   },
   "outputs": [
    {
     "name": "stdout",
     "output_type": "stream",
     "text": [
      "Sampling rate: 128.00 Hz\n",
      "Data shape: 7681 samples x 30 channels\n",
      "Tiempo total : 60.01 \n"
     ]
    }
   ],
   "source": [
    "sujeto_8_2 = pd.read_csv(dirname+'suj_8_bl_2.txt', sep=',', header=None)\n",
    "\n",
    "EEG_sujeto_8_2 = sujeto_8_2.to_numpy()\n",
    "srate=128\n",
    "ch    = EEG_sujeto_8_2.shape[0]\n",
    "samples = EEG_sujeto_8_2.shape[1] \n",
    "\n",
    "print(\"Sampling rate: {:.2f} Hz\".format(srate))\n",
    "print(\"Data shape: {:d} samples x {:d} channels\".format(EEG_sujeto_8_2.shape[1], EEG_sujeto_8_2.shape[0]))\n",
    "print(\"Tiempo total : {:.2f} \".format(samples/srate))"
   ]
  },
  {
   "cell_type": "markdown",
   "metadata": {},
   "source": [
    "## Sujeto 9"
   ]
  },
  {
   "cell_type": "markdown",
   "metadata": {},
   "source": [
    "### Cargo bl1"
   ]
  },
  {
   "cell_type": "code",
   "execution_count": 5,
   "metadata": {},
   "outputs": [
    {
     "name": "stdout",
     "output_type": "stream",
     "text": [
      "Sampling rate: 128.00 Hz\n",
      "Data shape: 7681 samples x 30 channels\n",
      "Tiempo total : 60.01 \n"
     ]
    }
   ],
   "source": [
    "sujeto_9_1 = pd.read_csv(dirname+'suj_9_bl_1.txt', sep=',', header=None)\n",
    "\n",
    "EEG_sujeto_9_1 = sujeto_9_1.to_numpy()\n",
    "srate=128\n",
    "ch    = EEG_sujeto_9_1.shape[0]\n",
    "samples = EEG_sujeto_9_1.shape[1] \n",
    "\n",
    "print(\"Sampling rate: {:.2f} Hz\".format(srate))\n",
    "print(\"Data shape: {:d} samples x {:d} channels\".format(EEG_sujeto_9_1.shape[1], EEG_sujeto_9_1.shape[0]))\n",
    "print(\"Tiempo total : {:.2f} \".format(samples/srate))"
   ]
  },
  {
   "cell_type": "markdown",
   "metadata": {},
   "source": [
    "### Cargo bl2"
   ]
  },
  {
   "cell_type": "code",
   "execution_count": 6,
   "metadata": {
    "scrolled": true
   },
   "outputs": [
    {
     "name": "stdout",
     "output_type": "stream",
     "text": [
      "Sampling rate: 128.00 Hz\n",
      "Data shape: 7681 samples x 30 channels\n",
      "Tiempo total : 60.01 \n"
     ]
    }
   ],
   "source": [
    "sujeto_9_2 = pd.read_csv(dirname+'suj_9_bl_2.txt', sep=',', header=None)\n",
    "\n",
    "EEG_sujeto_9_2 = sujeto_9_2.to_numpy()\n",
    "srate=128\n",
    "ch    = EEG_sujeto_9_2.shape[0]\n",
    "samples = EEG_sujeto_9_2.shape[1] \n",
    "\n",
    "print(\"Sampling rate: {:.2f} Hz\".format(srate))\n",
    "print(\"Data shape: {:d} samples x {:d} channels\".format(EEG_sujeto_9_2.shape[1], EEG_sujeto_9_2.shape[0]))\n",
    "print(\"Tiempo total : {:.2f} \".format(samples/srate))"
   ]
  },
  {
   "cell_type": "markdown",
   "metadata": {},
   "source": [
    "## Sujeto 10"
   ]
  },
  {
   "cell_type": "markdown",
   "metadata": {},
   "source": [
    "### Cargo bl1"
   ]
  },
  {
   "cell_type": "code",
   "execution_count": 7,
   "metadata": {},
   "outputs": [
    {
     "name": "stdout",
     "output_type": "stream",
     "text": [
      "Sampling rate: 128.00 Hz\n",
      "Data shape: 7681 samples x 30 channels\n",
      "Tiempo total : 60.01 \n"
     ]
    }
   ],
   "source": [
    "sujeto_10_1 = pd.read_csv(dirname+'suj_10_bl_1.txt', sep=',', header=None)\n",
    "\n",
    "EEG_sujeto_10_1 = sujeto_10_1.to_numpy()\n",
    "srate=128\n",
    "ch    = EEG_sujeto_10_1.shape[0]\n",
    "samples = EEG_sujeto_10_1.shape[1] \n",
    "\n",
    "print(\"Sampling rate: {:.2f} Hz\".format(srate))\n",
    "print(\"Data shape: {:d} samples x {:d} channels\".format(EEG_sujeto_10_1.shape[1], EEG_sujeto_10_1.shape[0]))\n",
    "print(\"Tiempo total : {:.2f} \".format(samples/srate))"
   ]
  },
  {
   "cell_type": "markdown",
   "metadata": {},
   "source": [
    "### Cargo bl2"
   ]
  },
  {
   "cell_type": "code",
   "execution_count": 8,
   "metadata": {
    "scrolled": true
   },
   "outputs": [
    {
     "name": "stdout",
     "output_type": "stream",
     "text": [
      "Sampling rate: 128.00 Hz\n",
      "Data shape: 7681 samples x 30 channels\n",
      "Tiempo total : 60.01 \n"
     ]
    }
   ],
   "source": [
    "sujeto_10_2 = pd.read_csv(dirname+'suj_10_bl_2.txt', sep=',', header=None)\n",
    "\n",
    "EEG_sujeto_10_2 = sujeto_10_2.to_numpy()\n",
    "srate=128\n",
    "ch    = EEG_sujeto_10_2.shape[0]\n",
    "samples = EEG_sujeto_10_2.shape[1] \n",
    "\n",
    "print(\"Sampling rate: {:.2f} Hz\".format(srate))\n",
    "print(\"Data shape: {:d} samples x {:d} channels\".format(EEG_sujeto_10_2.shape[1], EEG_sujeto_10_2.shape[0]))\n",
    "print(\"Tiempo total : {:.2f} \".format(samples/srate))"
   ]
  },
  {
   "cell_type": "markdown",
   "metadata": {},
   "source": [
    "## Sujeto 12"
   ]
  },
  {
   "cell_type": "markdown",
   "metadata": {},
   "source": [
    "### Cargo bl1"
   ]
  },
  {
   "cell_type": "code",
   "execution_count": 9,
   "metadata": {},
   "outputs": [
    {
     "name": "stdout",
     "output_type": "stream",
     "text": [
      "Sampling rate: 128.00 Hz\n",
      "Data shape: 7681 samples x 30 channels\n",
      "Tiempo total : 60.01 \n"
     ]
    }
   ],
   "source": [
    "sujeto_12_1 = pd.read_csv(dirname+'suj_12_bl_1.txt', sep=',', header=None)\n",
    "\n",
    "EEG_sujeto_12_1 = sujeto_12_1.to_numpy()\n",
    "srate=128\n",
    "ch    = EEG_sujeto_12_1.shape[0]\n",
    "samples = EEG_sujeto_12_1.shape[1] \n",
    "\n",
    "print(\"Sampling rate: {:.2f} Hz\".format(srate))\n",
    "print(\"Data shape: {:d} samples x {:d} channels\".format(EEG_sujeto_12_1.shape[1], EEG_sujeto_12_1.shape[0]))\n",
    "print(\"Tiempo total : {:.2f} \".format(samples/srate))"
   ]
  },
  {
   "cell_type": "markdown",
   "metadata": {},
   "source": [
    "### Cargo bl2"
   ]
  },
  {
   "cell_type": "code",
   "execution_count": 10,
   "metadata": {
    "scrolled": true
   },
   "outputs": [
    {
     "name": "stdout",
     "output_type": "stream",
     "text": [
      "Sampling rate: 128.00 Hz\n",
      "Data shape: 7681 samples x 30 channels\n",
      "Tiempo total : 60.01 \n"
     ]
    }
   ],
   "source": [
    "sujeto_12_2 = pd.read_csv(dirname+'suj_12_bl_2.txt', sep=',', header=None)\n",
    "\n",
    "EEG_sujeto_12_2 = sujeto_12_2.to_numpy()\n",
    "srate=128\n",
    "ch    = EEG_sujeto_12_2.shape[0]\n",
    "samples = EEG_sujeto_12_2.shape[1] \n",
    "\n",
    "print(\"Sampling rate: {:.2f} Hz\".format(srate))\n",
    "print(\"Data shape: {:d} samples x {:d} channels\".format(EEG_sujeto_12_2.shape[1], EEG_sujeto_12_2.shape[0]))\n",
    "print(\"Tiempo total : {:.2f} \".format(samples/srate))"
   ]
  },
  {
   "cell_type": "markdown",
   "metadata": {},
   "source": [
    "## Sujeto 13"
   ]
  },
  {
   "cell_type": "markdown",
   "metadata": {},
   "source": [
    "### Cargo bl1"
   ]
  },
  {
   "cell_type": "code",
   "execution_count": 11,
   "metadata": {},
   "outputs": [
    {
     "name": "stdout",
     "output_type": "stream",
     "text": [
      "Sampling rate: 128.00 Hz\n",
      "Data shape: 7681 samples x 30 channels\n",
      "Tiempo total : 60.01 \n"
     ]
    }
   ],
   "source": [
    "sujeto_13_1 = pd.read_csv(dirname+'suj_13_bl_1.txt', sep=',', header=None)\n",
    "\n",
    "EEG_sujeto_13_1 = sujeto_13_1.to_numpy()\n",
    "srate=128\n",
    "ch    = EEG_sujeto_13_1.shape[0]\n",
    "samples = EEG_sujeto_13_1.shape[1] \n",
    "\n",
    "print(\"Sampling rate: {:.2f} Hz\".format(srate))\n",
    "print(\"Data shape: {:d} samples x {:d} channels\".format(EEG_sujeto_13_1.shape[1], EEG_sujeto_13_1.shape[0]))\n",
    "print(\"Tiempo total : {:.2f} \".format(samples/srate))"
   ]
  },
  {
   "cell_type": "markdown",
   "metadata": {},
   "source": [
    "### Cargo bl2"
   ]
  },
  {
   "cell_type": "code",
   "execution_count": 12,
   "metadata": {
    "scrolled": true
   },
   "outputs": [
    {
     "name": "stdout",
     "output_type": "stream",
     "text": [
      "Sampling rate: 128.00 Hz\n",
      "Data shape: 7681 samples x 30 channels\n",
      "Tiempo total : 60.01 \n"
     ]
    }
   ],
   "source": [
    "sujeto_13_2 = pd.read_csv(dirname+'suj_13_bl_2.txt', sep=',', header=None)\n",
    "\n",
    "EEG_sujeto_13_2 = sujeto_13_2.to_numpy()\n",
    "srate=128\n",
    "ch    = EEG_sujeto_13_2.shape[0]\n",
    "samples = EEG_sujeto_13_2.shape[1] \n",
    "\n",
    "print(\"Sampling rate: {:.2f} Hz\".format(srate))\n",
    "print(\"Data shape: {:d} samples x {:d} channels\".format(EEG_sujeto_13_2.shape[1], EEG_sujeto_13_2.shape[0]))\n",
    "print(\"Tiempo total : {:.2f} \".format(samples/srate))"
   ]
  },
  {
   "cell_type": "code",
   "execution_count": null,
   "metadata": {},
   "outputs": [],
   "source": []
  },
  {
   "cell_type": "code",
   "execution_count": null,
   "metadata": {},
   "outputs": [],
   "source": []
  }
 ],
 "metadata": {
  "interpreter": {
   "hash": "ea56146b9658e77c42e4421b0caeb0b2472c2f97ec7017d1f96063e0b2c1ff97"
  },
  "kernelspec": {
   "display_name": "Python 3 (ipykernel)",
   "language": "python",
   "name": "python3"
  },
  "language_info": {
   "codemirror_mode": {
    "name": "ipython",
    "version": 3
   },
   "file_extension": ".py",
   "mimetype": "text/x-python",
   "name": "python",
   "nbconvert_exporter": "python",
   "pygments_lexer": "ipython3",
   "version": "3.8.8"
  }
 },
 "nbformat": 4,
 "nbformat_minor": 2
}
