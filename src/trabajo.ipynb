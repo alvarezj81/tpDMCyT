{
 "cells": [
  {
   "cell_type": "code",
   "execution_count": 2,
   "source": [
    "print('Probando git')"
   ],
   "outputs": [
    {
     "output_type": "stream",
     "name": "stdout",
     "text": [
      "Probando git\n"
     ]
    }
   ],
   "metadata": {}
  }
 ],
 "metadata": {
  "orig_nbformat": 4,
  "language_info": {
   "name": "python",
   "version": "3.8.8",
   "mimetype": "text/x-python",
   "codemirror_mode": {
    "name": "ipython",
    "version": 3
   },
   "pygments_lexer": "ipython3",
   "nbconvert_exporter": "python",
   "file_extension": ".py"
  },
  "kernelspec": {
   "name": "python3",
   "display_name": "Python 3.8.8 64-bit ('base': conda)"
  },
  "interpreter": {
   "hash": "ea56146b9658e77c42e4421b0caeb0b2472c2f97ec7017d1f96063e0b2c1ff97"
  }
 },
 "nbformat": 4,
 "nbformat_minor": 2
}